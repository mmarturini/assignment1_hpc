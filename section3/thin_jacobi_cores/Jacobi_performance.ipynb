{
 "cells": [
  {
   "cell_type": "code",
   "execution_count": 1,
   "metadata": {},
   "outputs": [
    {
     "data": {
      "text/plain": [
       "'c:\\\\Users\\\\matte\\\\OneDrive\\\\Desktop\\\\Università\\\\Trieste\\\\Second_year\\\\HPC21\\\\Cozzini\\\\MPI\\\\Assignment1\\\\Jacobi\\\\thin_jacobi_cores'"
      ]
     },
     "execution_count": 1,
     "metadata": {},
     "output_type": "execute_result"
    }
   ],
   "source": [
    "import os\n",
    "import numpy as np\n",
    "import pandas as pd\n",
    "import scipy as sp\n",
    "from scipy.optimize import curve_fit\n",
    "import matplotlib as mpl\n",
    "import matplotlib.pyplot as plt\n",
    "\n",
    "os.getcwd()"
   ]
  },
  {
   "cell_type": "code",
   "execution_count": 2,
   "metadata": {},
   "outputs": [
    {
     "data": {
      "text/html": [
       "<div>\n",
       "<style scoped>\n",
       "    .dataframe tbody tr th:only-of-type {\n",
       "        vertical-align: middle;\n",
       "    }\n",
       "\n",
       "    .dataframe tbody tr th {\n",
       "        vertical-align: top;\n",
       "    }\n",
       "\n",
       "    .dataframe thead th {\n",
       "        text-align: right;\n",
       "    }\n",
       "</style>\n",
       "<table border=\"1\" class=\"dataframe\">\n",
       "  <thead>\n",
       "    <tr style=\"text-align: right;\">\n",
       "      <th></th>\n",
       "      <th>Maxtime [s]</th>\n",
       "      <th>Mintime [s]</th>\n",
       "      <th>JacobiMin [s]</th>\n",
       "      <th>JacobiMax [s]</th>\n",
       "      <th>Residuals</th>\n",
       "      <th>MLUPs</th>\n",
       "    </tr>\n",
       "  </thead>\n",
       "  <tbody>\n",
       "    <tr>\n",
       "      <th>0</th>\n",
       "      <td>3.865</td>\n",
       "      <td>3.865</td>\n",
       "      <td>3.768</td>\n",
       "      <td>3.779</td>\n",
       "      <td>1.202000e+07</td>\n",
       "      <td>447.092</td>\n",
       "    </tr>\n",
       "    <tr>\n",
       "      <th>1</th>\n",
       "      <td>3.861</td>\n",
       "      <td>3.861</td>\n",
       "      <td>3.768</td>\n",
       "      <td>3.780</td>\n",
       "      <td>2.000000e+06</td>\n",
       "      <td>447.600</td>\n",
       "    </tr>\n",
       "    <tr>\n",
       "      <th>2</th>\n",
       "      <td>3.860</td>\n",
       "      <td>3.860</td>\n",
       "      <td>3.768</td>\n",
       "      <td>3.779</td>\n",
       "      <td>4.259259e+05</td>\n",
       "      <td>447.642</td>\n",
       "    </tr>\n",
       "    <tr>\n",
       "      <th>3</th>\n",
       "      <td>3.861</td>\n",
       "      <td>3.861</td>\n",
       "      <td>3.768</td>\n",
       "      <td>3.780</td>\n",
       "      <td>1.265432e+05</td>\n",
       "      <td>447.603</td>\n",
       "    </tr>\n",
       "    <tr>\n",
       "      <th>4</th>\n",
       "      <td>3.860</td>\n",
       "      <td>3.860</td>\n",
       "      <td>3.768</td>\n",
       "      <td>3.779</td>\n",
       "      <td>5.182613e+04</td>\n",
       "      <td>447.628</td>\n",
       "    </tr>\n",
       "    <tr>\n",
       "      <th>5</th>\n",
       "      <td>3.860</td>\n",
       "      <td>3.860</td>\n",
       "      <td>3.768</td>\n",
       "      <td>3.780</td>\n",
       "      <td>2.670213e+04</td>\n",
       "      <td>447.611</td>\n",
       "    </tr>\n",
       "    <tr>\n",
       "      <th>6</th>\n",
       "      <td>3.860</td>\n",
       "      <td>3.860</td>\n",
       "      <td>3.768</td>\n",
       "      <td>3.779</td>\n",
       "      <td>1.589400e+04</td>\n",
       "      <td>447.633</td>\n",
       "    </tr>\n",
       "    <tr>\n",
       "      <th>7</th>\n",
       "      <td>3.860</td>\n",
       "      <td>3.860</td>\n",
       "      <td>3.768</td>\n",
       "      <td>3.779</td>\n",
       "      <td>1.037824e+04</td>\n",
       "      <td>447.653</td>\n",
       "    </tr>\n",
       "    <tr>\n",
       "      <th>8</th>\n",
       "      <td>3.860</td>\n",
       "      <td>3.860</td>\n",
       "      <td>3.768</td>\n",
       "      <td>3.779</td>\n",
       "      <td>7.222263e+03</td>\n",
       "      <td>447.628</td>\n",
       "    </tr>\n",
       "    <tr>\n",
       "      <th>9</th>\n",
       "      <td>3.861</td>\n",
       "      <td>3.861</td>\n",
       "      <td>3.768</td>\n",
       "      <td>3.780</td>\n",
       "      <td>5.266190e+03</td>\n",
       "      <td>447.604</td>\n",
       "    </tr>\n",
       "  </tbody>\n",
       "</table>\n",
       "</div>"
      ],
      "text/plain": [
       "   Maxtime [s]  Mintime [s]  JacobiMin [s]  JacobiMax [s]     Residuals  \\\n",
       "0        3.865        3.865          3.768          3.779  1.202000e+07   \n",
       "1        3.861        3.861          3.768          3.780  2.000000e+06   \n",
       "2        3.860        3.860          3.768          3.779  4.259259e+05   \n",
       "3        3.861        3.861          3.768          3.780  1.265432e+05   \n",
       "4        3.860        3.860          3.768          3.779  5.182613e+04   \n",
       "5        3.860        3.860          3.768          3.780  2.670213e+04   \n",
       "6        3.860        3.860          3.768          3.779  1.589400e+04   \n",
       "7        3.860        3.860          3.768          3.779  1.037824e+04   \n",
       "8        3.860        3.860          3.768          3.779  7.222263e+03   \n",
       "9        3.861        3.861          3.768          3.780  5.266190e+03   \n",
       "\n",
       "     MLUPs  \n",
       "0  447.092  \n",
       "1  447.600  \n",
       "2  447.642  \n",
       "3  447.603  \n",
       "4  447.628  \n",
       "5  447.611  \n",
       "6  447.633  \n",
       "7  447.653  \n",
       "8  447.628  \n",
       "9  447.604  "
      ]
     },
     "execution_count": 2,
     "metadata": {},
     "output_type": "execute_result"
    }
   ],
   "source": [
    "filename = 'thin_cores_4.csv'\n",
    "colnames = ['Maxtime [s]', 'Mintime [s]', 'JacobiMin [s]', 'JacobiMax [s]', 'Residuals', 'MLUPs']\n",
    "data_frame = pd.read_csv(filename, names=colnames, header=None)\n",
    "data_frame = data_frame.round(3)\n",
    "data_frame\n",
    "#data_frame.mean(axis=0)\n",
    "#data = data_frame.values"
   ]
  },
  {
   "cell_type": "code",
   "execution_count": 27,
   "metadata": {},
   "outputs": [
    {
     "data": {
      "image/png": "[encoded data removed]",
      "text/plain": [
       "<Figure size 432x288 with 1 Axes>"
      ]
     },
     "metadata": {
      "needs_background": "light"
     },
     "output_type": "display_data"
    }
   ],
   "source": [
    "# creating table\n",
    "fig, ax = plt.subplots()\n",
    "ax.axis('off')\n",
    "ax.axis('tight')\n",
    "t= ax.table(cellText=data_frame.values, colWidths = [0.2]*len(data_frame.columns),  colLabels=data_frame.columns,  loc='center')\n",
    "t.auto_set_font_size(False) \n",
    "t.set_fontsize(8)\n",
    "fig.tight_layout()\n",
    "plt.show()"
   ]
  },
  {
   "cell_type": "code",
   "execution_count": 3,
   "metadata": {},
   "outputs": [],
   "source": [
    "def get_averages(filename):\n",
    "    colnames = ['Maxtime [s]', 'Mintime [s]', 'JacobiMin [s]', 'JacobiMax [s]', 'Residuals', 'MLUPs']\n",
    "    data_frame = pd.read_csv(filename, names=colnames, header=None)\n",
    "    averages = data_frame.mean(axis=0)\n",
    "    return round(averages, 3)"
   ]
  },
  {
   "cell_type": "code",
   "execution_count": 4,
   "metadata": {},
   "outputs": [],
   "source": [
    "filenames = ['thin_cores_4.csv', 'thin_cores_8.csv', 'thin_cores_12.csv']\n",
    "Maxtimes = []\n",
    "Mintimes = []\n",
    "JacobiMin = []\n",
    "JacobiMax = []\n",
    "Residuals = []\n",
    "MLUPs = []\n",
    "\n",
    "for filename in filenames:\n",
    "    averages = get_averages(filename)\n",
    "    Maxtimes.append(averages[0])\n",
    "    Mintimes.append(averages[1])\n",
    "    JacobiMin.append(averages[2])\n",
    "    JacobiMax.append(averages[3])\n",
    "    Residuals.append(averages[4])\n",
    "    MLUPs.append(averages[5])\n",
    "\n",
    "Maxtimes = np.array(Maxtimes)\n",
    "Mintimes = np.array(Mintimes)\n",
    "JacobiMax = np.array(JacobiMax)\n",
    "JacobiMin = np.array(JacobiMin)\n",
    "Residuals = np.array(Residuals)\n",
    "MLUPs = np.array(MLUPs)"
   ]
  },
  {
   "cell_type": "code",
   "execution_count": 22,
   "metadata": {},
   "outputs": [
    {
     "data": {
      "text/plain": [
       "array([3.779, 1.896, 1.276])"
      ]
     },
     "execution_count": 22,
     "metadata": {},
     "output_type": "execute_result"
    }
   ],
   "source": [
    "JacobiMax"
   ]
  },
  {
   "cell_type": "markdown",
   "metadata": {},
   "source": [
    "Communication time"
   ]
  },
  {
   "cell_type": "code",
   "execution_count": 8,
   "metadata": {},
   "outputs": [
    {
     "data": {
      "text/plain": [
       "array([0.   , 0.082, 0.062, 0.045])"
      ]
     },
     "execution_count": 8,
     "metadata": {},
     "output_type": "execute_result"
    },
    {
     "data": {
      "image/png": "[encoded data removed]",
      "text/plain": [
       "<Figure size 432x288 with 1 Axes>"
      ]
     },
     "metadata": {
      "needs_background": "light"
     },
     "output_type": "display_data"
    }
   ],
   "source": [
    "# Measured communication time\n",
    "\n",
    "comm_time = np.subtract(Maxtimes, JacobiMax)\n",
    "\n",
    "single_core_comm = 0\n",
    "comm_time = np.insert(comm_time, 0, single_core_comm)\n",
    "plt.plot(comm_time)\n",
    "comm_time"
   ]
  },
  {
   "cell_type": "markdown",
   "metadata": {},
   "source": [
    "Theoretical communication time"
   ]
  },
  {
   "cell_type": "code",
   "execution_count": 18,
   "metadata": {},
   "outputs": [],
   "source": [
    "# c = L^2 * k * 2 * 8\n",
    "# 4 cores: procs per dim = (2,2,1) --> k = 4\n",
    "# 8           ...          (2,2,2) --> k = 6\n",
    "# 12          ...          (3,2,2) --> k = 6\n",
    "\n",
    "L = 1200\n",
    "const = L**2 * 2 * 8 # bytes\n",
    "c_4 = const * 4\n",
    "c_8 = const * 6\n",
    "c_12 = const * 6\n",
    "c = np.array([0, c_4, c_8, c_12])\n",
    "c = c/10**(6) # Mb\n",
    "\n",
    "k = np.array([0,4,6,6])\n",
    "\n",
    "latency = 0.2*10**(-6) # seconds\n",
    "B = 6447.9475 # Mb/s\n",
    "\n",
    "def theoretical_comm_time(c,B,k,latency):\n",
    "    return c/B + latency*k"
   ]
  },
  {
   "cell_type": "code",
   "execution_count": 21,
   "metadata": {},
   "outputs": [
    {
     "data": {
      "text/plain": [
       "[<matplotlib.lines.Line2D at 0x146f69a5c40>]"
      ]
     },
     "execution_count": 21,
     "metadata": {},
     "output_type": "execute_result"
    },
    {
     "data": {
      "image/png": "[encoded data removed]",
      "text/plain": [
       "<Figure size 432x288 with 1 Axes>"
      ]
     },
     "metadata": {
      "needs_background": "light"
     },
     "output_type": "display_data"
    }
   ],
   "source": [
    "t = theoretical_comm_time(c,B,k,latency) # seconds\n",
    "plt.plot(t)\n",
    "plt.plot(comm_time)"
   ]
  },
  {
   "cell_type": "markdown",
   "metadata": {},
   "source": [
    "Theoretical performance"
   ]
  },
  {
   "cell_type": "code",
   "execution_count": 24,
   "metadata": {},
   "outputs": [
    {
     "data": {
      "text/plain": [
       "array([15.067, 15.067,  3.779,  1.896,  1.276])"
      ]
     },
     "execution_count": 24,
     "metadata": {},
     "output_type": "execute_result"
    }
   ],
   "source": [
    "single_core_jac_max = 15.067\n",
    "JacobiMax = np.insert(JacobiMax, 0, single_core_jac_max)\n",
    "JacobiMax #seconds"
   ]
  },
  {
   "cell_type": "code",
   "execution_count": 39,
   "metadata": {},
   "outputs": [],
   "source": [
    "def theoretical_perf(N, L, time, communic_time):\n",
    "    L_3 = L**3/10**6\n",
    "    return (L_3 * N) / 15.334 # T_s estimated via computation on single core\n",
    "    "
   ]
  },
  {
   "cell_type": "code",
   "execution_count": 42,
   "metadata": {},
   "outputs": [],
   "source": [
    "L = 1200 # lattice points\n",
    "time = JacobiMax #seconds\n",
    "c_time = theoretical_comm_time(c,B,k,latency) #seconds\n",
    "N = np.array([1, 4, 8, 12])\n",
    "\n",
    "theoretical_performance = theoretical_perf(N, L, time, c_time) # MLUP/s"
   ]
  },
  {
   "cell_type": "markdown",
   "metadata": {},
   "source": [
    "measured performance : instead of theoretical comm + measured jaconi max, use the whole time as denominator"
   ]
  },
  {
   "cell_type": "code",
   "execution_count": 36,
   "metadata": {},
   "outputs": [
    {
     "data": {
      "text/plain": [
       "array([15.334,  3.861,  1.958,  1.321])"
      ]
     },
     "execution_count": 36,
     "metadata": {},
     "output_type": "execute_result"
    }
   ],
   "source": [
    "Maxtimes = np.insert(Maxtimes, 0, 15.334)\n",
    "Maxtimes"
   ]
  },
  {
   "cell_type": "code",
   "execution_count": 37,
   "metadata": {},
   "outputs": [],
   "source": [
    "# measured performance : instead of theoretical comm + measured jaconi max, use the whole time as denominator\n",
    "def measured_perf(N, L, tot_time):\n",
    "    L_3 = L**3/10**6\n",
    "    return (L_3 * N) / tot_time\n",
    "\n",
    "L = 1200 # lattice points\n",
    "tot_time = Maxtimes #seconds\n",
    "N = np.array([1, 4, 8, 12])"
   ]
  },
  {
   "cell_type": "code",
   "execution_count": 43,
   "metadata": {},
   "outputs": [
    {
     "data": {
      "text/plain": [
       "array([ 447.569,  882.644, 1308.003])"
      ]
     },
     "execution_count": 43,
     "metadata": {},
     "output_type": "execute_result"
    }
   ],
   "source": [
    "measured_performance = measured_perf(N,L,tot_time)"
   ]
  },
  {
   "cell_type": "markdown",
   "metadata": {},
   "source": [
    "Measured performance as MLUPs given as output by program"
   ]
  },
  {
   "cell_type": "code",
   "execution_count": 44,
   "metadata": {},
   "outputs": [],
   "source": [
    "MLUPs = np.insert(MLUPs, 0, 112.692)"
   ]
  },
  {
   "cell_type": "code",
   "execution_count": 45,
   "metadata": {},
   "outputs": [
    {
     "data": {
      "text/plain": [
       "array([ 112.692,  447.569,  882.644, 1308.003])"
      ]
     },
     "execution_count": 45,
     "metadata": {},
     "output_type": "execute_result"
    }
   ],
   "source": [
    "MLUPs"
   ]
  },
  {
   "cell_type": "code",
   "execution_count": 49,
   "metadata": {},
   "outputs": [
    {
     "data": {
      "image/png": "[encoded data removed]",
      "text/plain": [
       "<Figure size 432x288 with 1 Axes>"
      ]
     },
     "metadata": {
      "needs_background": "light"
     },
     "output_type": "display_data"
    }
   ],
   "source": [
    "plt.figure()\n",
    "plt.scatter(N, MLUPs)\n",
    "plt.plot(N, MLUPs, label='Measured performance')\n",
    "plt.scatter(N, theoretical_performance, alpha=0.7, marker='v')\n",
    "plt.plot(N, theoretical_performance, label='Theoretical performance', alpha=0.7)\n",
    "plt.title('Inside socket')\n",
    "plt.xlabel(\"Number of processes\")\n",
    "plt.ylabel('Performance [MLUPs/s]')\n",
    "plt.legend()\n",
    "plt.show()"
   ]
  },
  {
   "cell_type": "markdown",
   "metadata": {},
   "source": [
    "MLUPs as output of the program"
   ]
  },
  {
   "cell_type": "code",
   "execution_count": 5,
   "metadata": {},
   "outputs": [
    {
     "data": {
      "image/png": "[encoded data removed]",
      "text/plain": [
       "<Figure size 432x288 with 1 Axes>"
      ]
     },
     "metadata": {
      "needs_background": "light"
     },
     "output_type": "display_data"
    }
   ],
   "source": [
    "sc_MLUPs = 112.692\n",
    "\n",
    "MLUPs = np.insert(MLUPs, 0, sc_MLUPs)\n",
    "N = np.array([1,4,8,12])\n",
    "\n",
    "plt.figure()\n",
    "plt.scatter(N, MLUPs)\n",
    "plt.plot(N,MLUPs)\n",
    "plt.title('Inside socket')\n",
    "plt.xlabel(\"Number of processors\")\n",
    "plt.ylabel(\"MLUPs\")\n",
    "plt.show()"
   ]
  },
  {
   "cell_type": "markdown",
   "metadata": {},
   "source": [
    "Performance in MLUPs/second"
   ]
  },
  {
   "cell_type": "code",
   "execution_count": 43,
   "metadata": {},
   "outputs": [
    {
     "data": {
      "image/png": "[encoded data removed]",
      "text/plain": [
       "<Figure size 432x288 with 1 Axes>"
      ]
     },
     "metadata": {
      "needs_background": "light"
     },
     "output_type": "display_data"
    }
   ],
   "source": [
    "sc_thin_MLUPs_s = 7.349\n",
    "\n",
    "MLUPs_second = np.divide(MLUPs, Maxtimes)\n",
    "MLUPs_second = np.insert(MLUPs_second, 0, sc_thin_MLUPs_s)\n",
    "N = np.array([1,4,8,12])\n",
    "\n",
    "plt.figure()\n",
    "plt.scatter(N, MLUPs_second)\n",
    "plt.plot(N,MLUPs_second)\n",
    "plt.title('Inside socket')\n",
    "plt.xlabel(\"Number of processors\")\n",
    "plt.ylabel(\"Performance [MLUPs/sec]\")\n",
    "plt.show()"
   ]
  },
  {
   "cell_type": "markdown",
   "metadata": {},
   "source": [
    "Total runtime"
   ]
  },
  {
   "cell_type": "code",
   "execution_count": 6,
   "metadata": {},
   "outputs": [
    {
     "data": {
      "image/png": "[encoded data removed]",
      "text/plain": [
       "<Figure size 432x288 with 1 Axes>"
      ]
     },
     "metadata": {
      "needs_background": "light"
     },
     "output_type": "display_data"
    }
   ],
   "source": [
    "sc_thin_Maxtime = 15.334\n",
    "\n",
    "Maxtimes = np.insert(Maxtimes, 0, sc_thin_Maxtime)\n",
    "N = np.array([1,4,8,12])\n",
    "\n",
    "plt.figure()\n",
    "plt.scatter(N, Maxtimes)\n",
    "plt.plot(N, Maxtimes)\n",
    "plt.title('Inside socket')\n",
    "plt.xlabel(\"Number of processors\")\n",
    "plt.ylabel(\"Total runtime [seconds]\")\n",
    "plt.show()\n"
   ]
  },
  {
   "cell_type": "markdown",
   "metadata": {},
   "source": [
    "Speedup"
   ]
  },
  {
   "cell_type": "code",
   "execution_count": 7,
   "metadata": {},
   "outputs": [
    {
     "data": {
      "image/png": "[encoded data removed]",
      "text/plain": [
       "<Figure size 432x288 with 1 Axes>"
      ]
     },
     "metadata": {
      "needs_background": "light"
     },
     "output_type": "display_data"
    }
   ],
   "source": [
    "speedup = np.divide(Maxtimes[0], Maxtimes)\n",
    "N = np.array([1,4,8,12])\n",
    "\n",
    "plt.figure()\n",
    "plt.scatter(N, speedup)\n",
    "plt.plot(N, speedup, label='observed')\n",
    "plt.scatter(N,N, marker=\"v\")\n",
    "plt.plot(N,N, label = 'linear', alpha=0.5)\n",
    "plt.title('Strong scalability')\n",
    "plt.xlabel(\"Number of processors\")\n",
    "plt.ylabel(\"Speedup\")\n",
    "plt.legend()\n",
    "plt.show()"
   ]
  },
  {
   "cell_type": "markdown",
   "metadata": {},
   "source": [
    "Efficiency"
   ]
  },
  {
   "cell_type": "code",
   "execution_count": 55,
   "metadata": {},
   "outputs": [
    {
     "data": {
      "image/png": "[encoded data removed]",
      "text/plain": [
       "<Figure size 432x288 with 1 Axes>"
      ]
     },
     "metadata": {
      "needs_background": "light"
     },
     "output_type": "display_data"
    }
   ],
   "source": [
    "efficiency = np.divide(speedup, N)\n",
    "\n",
    "plt.figure()\n",
    "plt.scatter(N, efficiency)\n",
    "plt.plot(N, efficiency)\n",
    "plt.ylim((0,1.2))\n",
    "plt.title('Inside socket')\n",
    "plt.xlabel(\"Number of processors\")\n",
    "plt.ylabel(\"Efficiency\")\n",
    "plt.show()"
   ]
  },
  {
   "cell_type": "markdown",
   "metadata": {},
   "source": []
  },
  {
   "cell_type": "code",
   "execution_count": 72,
   "metadata": {},
   "outputs": [
    {
     "data": {
      "text/plain": [
       "array([151., 190., 218., 240., 259., 275., 302., 326., 346., 436., 480.,\n",
       "       549.])"
      ]
     },
     "execution_count": 72,
     "metadata": {},
     "output_type": "execute_result"
    }
   ],
   "source": [
    "L = 120\n",
    "\n",
    "def fun(N):\n",
    "    return N ** (1. / 3) * L\n",
    "\n",
    "N = np.array([2,4,6,8,10,12,16,20,24,48,64,96])\n",
    "\n",
    "weak_L = np.round(fun(N), 0)\n",
    "weak_L"
   ]
  },
  {
   "cell_type": "code",
   "execution_count": null,
   "metadata": {},
   "outputs": [],
   "source": []
  }
 ],
 "metadata": {
  "interpreter": {
   "hash": "c17386159a25e5d47e797c33cdeadec496f05aeaafd8d0e93e21dd4de2513146"
  },
  "kernelspec": {
   "display_name": "Python 3.8.5 64-bit ('base': conda)",
   "language": "python",
   "name": "python3"
  },
  "language_info": {
   "codemirror_mode": {
    "name": "ipython",
    "version": 3
   },
   "file_extension": ".py",
   "mimetype": "text/x-python",
   "name": "python",
   "nbconvert_exporter": "python",
   "pygments_lexer": "ipython3",
   "version": "3.8.5"
  },
  "orig_nbformat": 4
 },
 "nbformat": 4,
 "nbformat_minor": 2
}
