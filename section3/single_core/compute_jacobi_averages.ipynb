{
 "cells": [
  {
   "cell_type": "code",
   "execution_count": 1,
   "metadata": {},
   "outputs": [
    {
     "data": {
      "text/plain": [
       "'c:\\\\Users\\\\matte\\\\OneDrive\\\\Desktop\\\\Università\\\\Trieste\\\\Second_year\\\\HPC21\\\\Cozzini\\\\MPI\\\\Assignment1\\\\Jacobi\\\\thin_jacobi_cores'"
      ]
     },
     "execution_count": 1,
     "metadata": {},
     "output_type": "execute_result"
    }
   ],
   "source": [
    "import os\n",
    "import numpy as np\n",
    "import pandas as pd\n",
    "import scipy as sp\n",
    "from scipy.optimize import curve_fit\n",
    "import matplotlib as mpl\n",
    "import matplotlib.pyplot as plt\n",
    "\n",
    "os.getcwd()"
   ]
  },
  {
   "cell_type": "code",
   "execution_count": 22,
   "metadata": {},
   "outputs": [
    {
     "data": {
      "text/html": [
       "<div>\n",
       "<style scoped>\n",
       "    .dataframe tbody tr th:only-of-type {\n",
       "        vertical-align: middle;\n",
       "    }\n",
       "\n",
       "    .dataframe tbody tr th {\n",
       "        vertical-align: top;\n",
       "    }\n",
       "\n",
       "    .dataframe thead th {\n",
       "        text-align: right;\n",
       "    }\n",
       "</style>\n",
       "<table border=\"1\" class=\"dataframe\">\n",
       "  <thead>\n",
       "    <tr style=\"text-align: right;\">\n",
       "      <th></th>\n",
       "      <th>Maxtime [s]</th>\n",
       "      <th>Mintime [s]</th>\n",
       "      <th>JacobiMin [s]</th>\n",
       "      <th>JacobiMax [s]</th>\n",
       "      <th>Residuals</th>\n",
       "      <th>MLUPs</th>\n",
       "    </tr>\n",
       "  </thead>\n",
       "  <tbody>\n",
       "    <tr>\n",
       "      <th>0</th>\n",
       "      <td>3.865</td>\n",
       "      <td>3.865</td>\n",
       "      <td>3.768</td>\n",
       "      <td>3.779</td>\n",
       "      <td>1.202000e+07</td>\n",
       "      <td>447.092</td>\n",
       "    </tr>\n",
       "    <tr>\n",
       "      <th>1</th>\n",
       "      <td>3.861</td>\n",
       "      <td>3.861</td>\n",
       "      <td>3.768</td>\n",
       "      <td>3.780</td>\n",
       "      <td>2.000000e+06</td>\n",
       "      <td>447.600</td>\n",
       "    </tr>\n",
       "    <tr>\n",
       "      <th>2</th>\n",
       "      <td>3.860</td>\n",
       "      <td>3.860</td>\n",
       "      <td>3.768</td>\n",
       "      <td>3.779</td>\n",
       "      <td>4.259259e+05</td>\n",
       "      <td>447.642</td>\n",
       "    </tr>\n",
       "    <tr>\n",
       "      <th>3</th>\n",
       "      <td>3.861</td>\n",
       "      <td>3.861</td>\n",
       "      <td>3.768</td>\n",
       "      <td>3.780</td>\n",
       "      <td>1.265432e+05</td>\n",
       "      <td>447.603</td>\n",
       "    </tr>\n",
       "    <tr>\n",
       "      <th>4</th>\n",
       "      <td>3.860</td>\n",
       "      <td>3.860</td>\n",
       "      <td>3.768</td>\n",
       "      <td>3.779</td>\n",
       "      <td>5.182613e+04</td>\n",
       "      <td>447.628</td>\n",
       "    </tr>\n",
       "    <tr>\n",
       "      <th>5</th>\n",
       "      <td>3.860</td>\n",
       "      <td>3.860</td>\n",
       "      <td>3.768</td>\n",
       "      <td>3.780</td>\n",
       "      <td>2.670213e+04</td>\n",
       "      <td>447.611</td>\n",
       "    </tr>\n",
       "    <tr>\n",
       "      <th>6</th>\n",
       "      <td>3.860</td>\n",
       "      <td>3.860</td>\n",
       "      <td>3.768</td>\n",
       "      <td>3.779</td>\n",
       "      <td>1.589400e+04</td>\n",
       "      <td>447.633</td>\n",
       "    </tr>\n",
       "    <tr>\n",
       "      <th>7</th>\n",
       "      <td>3.860</td>\n",
       "      <td>3.860</td>\n",
       "      <td>3.768</td>\n",
       "      <td>3.779</td>\n",
       "      <td>1.037824e+04</td>\n",
       "      <td>447.653</td>\n",
       "    </tr>\n",
       "    <tr>\n",
       "      <th>8</th>\n",
       "      <td>3.860</td>\n",
       "      <td>3.860</td>\n",
       "      <td>3.768</td>\n",
       "      <td>3.779</td>\n",
       "      <td>7.222263e+03</td>\n",
       "      <td>447.628</td>\n",
       "    </tr>\n",
       "    <tr>\n",
       "      <th>9</th>\n",
       "      <td>3.861</td>\n",
       "      <td>3.861</td>\n",
       "      <td>3.768</td>\n",
       "      <td>3.780</td>\n",
       "      <td>5.266190e+03</td>\n",
       "      <td>447.604</td>\n",
       "    </tr>\n",
       "  </tbody>\n",
       "</table>\n",
       "</div>"
      ],
      "text/plain": [
       "   Maxtime [s]  Mintime [s]  JacobiMin [s]  JacobiMax [s]     Residuals  \\\n",
       "0        3.865        3.865          3.768          3.779  1.202000e+07   \n",
       "1        3.861        3.861          3.768          3.780  2.000000e+06   \n",
       "2        3.860        3.860          3.768          3.779  4.259259e+05   \n",
       "3        3.861        3.861          3.768          3.780  1.265432e+05   \n",
       "4        3.860        3.860          3.768          3.779  5.182613e+04   \n",
       "5        3.860        3.860          3.768          3.780  2.670213e+04   \n",
       "6        3.860        3.860          3.768          3.779  1.589400e+04   \n",
       "7        3.860        3.860          3.768          3.779  1.037824e+04   \n",
       "8        3.860        3.860          3.768          3.779  7.222263e+03   \n",
       "9        3.861        3.861          3.768          3.780  5.266190e+03   \n",
       "\n",
       "     MLUPs  \n",
       "0  447.092  \n",
       "1  447.600  \n",
       "2  447.642  \n",
       "3  447.603  \n",
       "4  447.628  \n",
       "5  447.611  \n",
       "6  447.633  \n",
       "7  447.653  \n",
       "8  447.628  \n",
       "9  447.604  "
      ]
     },
     "execution_count": 22,
     "metadata": {},
     "output_type": "execute_result"
    }
   ],
   "source": [
    "filename = 'thin_cores_4.csv'\n",
    "colnames = ['Maxtime [s]', 'Mintime [s]', 'JacobiMin [s]', 'JacobiMax [s]', 'Residuals', 'MLUPs']\n",
    "data_frame = pd.read_csv(filename, names=colnames, header=None)\n",
    "data_frame = data_frame.round(3)\n",
    "data_frame\n",
    "#data_frame.mean(axis=0)\n",
    "#data = data_frame.values"
   ]
  },
  {
   "cell_type": "code",
   "execution_count": 27,
   "metadata": {},
   "outputs": [
    {
     "data": {
      "image/png": "[encoded data removed]",
      "text/plain": [
       "<Figure size 432x288 with 1 Axes>"
      ]
     },
     "metadata": {
      "needs_background": "light"
     },
     "output_type": "display_data"
    }
   ],
   "source": [
    "# creating table\n",
    "fig, ax = plt.subplots()\n",
    "ax.axis('off')\n",
    "ax.axis('tight')\n",
    "t= ax.table(cellText=data_frame.values, colWidths = [0.2]*len(data_frame.columns),  colLabels=data_frame.columns,  loc='center')\n",
    "t.auto_set_font_size(False) \n",
    "t.set_fontsize(8)\n",
    "fig.tight_layout()\n",
    "plt.show()"
   ]
  },
  {
   "cell_type": "code",
   "execution_count": 17,
   "metadata": {},
   "outputs": [],
   "source": [
    "def get_averages(filename):\n",
    "    colnames = ['Maxtime [s]', 'Mintime [s]', 'JacobiMin [s]', 'JacobiMax [s]', 'Residuals', 'MLUPs']\n",
    "    data_frame = pd.read_csv(filename, names=colnames, header=None)\n",
    "    averages = data_frame.mean(axis=0)\n",
    "    return round(averages, 3)"
   ]
  },
  {
   "cell_type": "code",
   "execution_count": 20,
   "metadata": {},
   "outputs": [],
   "source": [
    "filenames = ['thin_cores_4.csv', 'thin_cores_8.csv', 'thin_cores_12.csv']\n",
    "Maxtimes = []\n",
    "Mintimes = []\n",
    "JacobiMin = []\n",
    "JacobiMax = []\n",
    "Residuals = []\n",
    "MLUPs = []\n",
    "\n",
    "for filename in filenames:\n",
    "    averages = get_averages(filename)\n",
    "    Maxtimes.append(averages[0])\n",
    "    Mintimes.append(averages[1])\n",
    "    JacobiMin.append(averages[2])\n",
    "    JacobiMax.append(averages[3])\n",
    "    Residuals.append(averages[4])\n",
    "    MLUPs.append(averages[5])\n",
    "\n",
    "Maxtimes = np.array(Maxtimes)\n",
    "Mintimes = np.array(Mintimes)\n",
    "JacobiMax = np.array(JacobiMax)\n",
    "JacobiMin = np.array(JacobiMin)\n",
    "Residuals = np.array(Residuals)\n",
    "MLUPs = np.array(MLUPs)"
   ]
  },
  {
   "cell_type": "code",
   "execution_count": 32,
   "metadata": {},
   "outputs": [
    {
     "data": {
      "image/png": "[encoded data removed]",
      "text/plain": [
       "<Figure size 432x288 with 1 Axes>"
      ]
     },
     "metadata": {
      "needs_background": "light"
     },
     "output_type": "display_data"
    }
   ],
   "source": [
    "MLUPs_second = np.divide(MLUPs, Maxtimes)\n",
    "N = np.array([4,8,12])\n",
    "\n",
    "plt.figure()\n",
    "plt.scatter(N, MLUPs_second)\n",
    "plt.plot(N,MLUPs_second)\n",
    "plt.title('thin_cores_4.csv')\n",
    "plt.xlabel(\"# of processors\")\n",
    "plt.ylabel(\"Performance [MLUPs/sec]\")\n",
    "plt.show()"
   ]
  },
  {
   "cell_type": "code",
   "execution_count": 29,
   "metadata": {},
   "outputs": [
    {
     "name": "stdout",
     "output_type": "stream",
     "text": [
      "[3.779 1.896 1.276]\n",
      "[3.861 1.958 1.321]\n"
     ]
    }
   ],
   "source": [
    "print(JacobiMax)\n",
    "print(Maxtimes)\n"
   ]
  }
 ],
 "metadata": {
  "interpreter": {
   "hash": "c17386159a25e5d47e797c33cdeadec496f05aeaafd8d0e93e21dd4de2513146"
  },
  "kernelspec": {
   "display_name": "Python 3.8.5 64-bit ('base': conda)",
   "language": "python",
   "name": "python3"
  },
  "language_info": {
   "codemirror_mode": {
    "name": "ipython",
    "version": 3
   },
   "file_extension": ".py",
   "mimetype": "text/x-python",
   "name": "python",
   "nbconvert_exporter": "python",
   "pygments_lexer": "ipython3",
   "version": "3.8.5"
  },
  "orig_nbformat": 4
 },
 "nbformat": 4,
 "nbformat_minor": 2
}
