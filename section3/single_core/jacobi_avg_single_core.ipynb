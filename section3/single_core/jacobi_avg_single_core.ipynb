{
 "cells": [
  {
   "cell_type": "code",
   "execution_count": 1,
   "metadata": {},
   "outputs": [
    {
     "data": {
      "text/plain": [
       "'c:\\\\Users\\\\matte\\\\OneDrive\\\\Desktop\\\\Università\\\\Trieste\\\\Second_year\\\\HPC21\\\\Cozzini\\\\MPI\\\\Assignment1\\\\Jacobi\\\\single_core'"
      ]
     },
     "execution_count": 1,
     "metadata": {},
     "output_type": "execute_result"
    }
   ],
   "source": [
    "import os\n",
    "import numpy as np\n",
    "import pandas as pd\n",
    "import scipy as sp\n",
    "from scipy.optimize import curve_fit\n",
    "import matplotlib as mpl\n",
    "import matplotlib.pyplot as plt\n",
    "\n",
    "os.getcwd()"
   ]
  },
  {
   "cell_type": "code",
   "execution_count": 2,
   "metadata": {},
   "outputs": [
    {
     "data": {
      "text/html": [
       "<div>\n",
       "<style scoped>\n",
       "    .dataframe tbody tr th:only-of-type {\n",
       "        vertical-align: middle;\n",
       "    }\n",
       "\n",
       "    .dataframe tbody tr th {\n",
       "        vertical-align: top;\n",
       "    }\n",
       "\n",
       "    .dataframe thead th {\n",
       "        text-align: right;\n",
       "    }\n",
       "</style>\n",
       "<table border=\"1\" class=\"dataframe\">\n",
       "  <thead>\n",
       "    <tr style=\"text-align: right;\">\n",
       "      <th></th>\n",
       "      <th>Maxtime [s]</th>\n",
       "      <th>Mintime [s]</th>\n",
       "      <th>JacobiMin [s]</th>\n",
       "      <th>JacobiMax [s]</th>\n",
       "      <th>Residuals</th>\n",
       "      <th>MLUPs</th>\n",
       "    </tr>\n",
       "  </thead>\n",
       "  <tbody>\n",
       "    <tr>\n",
       "      <th>0</th>\n",
       "      <td>15.357</td>\n",
       "      <td>15.357</td>\n",
       "      <td>15.083</td>\n",
       "      <td>15.083</td>\n",
       "      <td>1.202000e+07</td>\n",
       "      <td>112.521</td>\n",
       "    </tr>\n",
       "    <tr>\n",
       "      <th>1</th>\n",
       "      <td>15.319</td>\n",
       "      <td>15.319</td>\n",
       "      <td>15.053</td>\n",
       "      <td>15.053</td>\n",
       "      <td>2.000000e+06</td>\n",
       "      <td>112.802</td>\n",
       "    </tr>\n",
       "    <tr>\n",
       "      <th>2</th>\n",
       "      <td>15.347</td>\n",
       "      <td>15.347</td>\n",
       "      <td>15.081</td>\n",
       "      <td>15.081</td>\n",
       "      <td>4.259259e+05</td>\n",
       "      <td>112.596</td>\n",
       "    </tr>\n",
       "    <tr>\n",
       "      <th>3</th>\n",
       "      <td>15.320</td>\n",
       "      <td>15.320</td>\n",
       "      <td>15.054</td>\n",
       "      <td>15.054</td>\n",
       "      <td>1.265432e+05</td>\n",
       "      <td>112.793</td>\n",
       "    </tr>\n",
       "    <tr>\n",
       "      <th>4</th>\n",
       "      <td>15.346</td>\n",
       "      <td>15.346</td>\n",
       "      <td>15.080</td>\n",
       "      <td>15.080</td>\n",
       "      <td>5.182613e+04</td>\n",
       "      <td>112.606</td>\n",
       "    </tr>\n",
       "    <tr>\n",
       "      <th>5</th>\n",
       "      <td>15.319</td>\n",
       "      <td>15.319</td>\n",
       "      <td>15.053</td>\n",
       "      <td>15.053</td>\n",
       "      <td>2.670213e+04</td>\n",
       "      <td>112.799</td>\n",
       "    </tr>\n",
       "    <tr>\n",
       "      <th>6</th>\n",
       "      <td>15.345</td>\n",
       "      <td>15.345</td>\n",
       "      <td>15.079</td>\n",
       "      <td>15.079</td>\n",
       "      <td>1.589400e+04</td>\n",
       "      <td>112.609</td>\n",
       "    </tr>\n",
       "    <tr>\n",
       "      <th>7</th>\n",
       "      <td>15.319</td>\n",
       "      <td>15.319</td>\n",
       "      <td>15.053</td>\n",
       "      <td>15.053</td>\n",
       "      <td>1.037824e+04</td>\n",
       "      <td>112.801</td>\n",
       "    </tr>\n",
       "    <tr>\n",
       "      <th>8</th>\n",
       "      <td>15.346</td>\n",
       "      <td>15.346</td>\n",
       "      <td>15.080</td>\n",
       "      <td>15.080</td>\n",
       "      <td>7.222263e+03</td>\n",
       "      <td>112.601</td>\n",
       "    </tr>\n",
       "    <tr>\n",
       "      <th>9</th>\n",
       "      <td>15.319</td>\n",
       "      <td>15.319</td>\n",
       "      <td>15.054</td>\n",
       "      <td>15.054</td>\n",
       "      <td>5.266190e+03</td>\n",
       "      <td>112.798</td>\n",
       "    </tr>\n",
       "  </tbody>\n",
       "</table>\n",
       "</div>"
      ],
      "text/plain": [
       "   Maxtime [s]  Mintime [s]  JacobiMin [s]  JacobiMax [s]     Residuals  \\\n",
       "0       15.357       15.357         15.083         15.083  1.202000e+07   \n",
       "1       15.319       15.319         15.053         15.053  2.000000e+06   \n",
       "2       15.347       15.347         15.081         15.081  4.259259e+05   \n",
       "3       15.320       15.320         15.054         15.054  1.265432e+05   \n",
       "4       15.346       15.346         15.080         15.080  5.182613e+04   \n",
       "5       15.319       15.319         15.053         15.053  2.670213e+04   \n",
       "6       15.345       15.345         15.079         15.079  1.589400e+04   \n",
       "7       15.319       15.319         15.053         15.053  1.037824e+04   \n",
       "8       15.346       15.346         15.080         15.080  7.222263e+03   \n",
       "9       15.319       15.319         15.054         15.054  5.266190e+03   \n",
       "\n",
       "     MLUPs  \n",
       "0  112.521  \n",
       "1  112.802  \n",
       "2  112.596  \n",
       "3  112.793  \n",
       "4  112.606  \n",
       "5  112.799  \n",
       "6  112.609  \n",
       "7  112.801  \n",
       "8  112.601  \n",
       "9  112.798  "
      ]
     },
     "execution_count": 2,
     "metadata": {},
     "output_type": "execute_result"
    }
   ],
   "source": [
    "filename = 'single_core_thin.csv'\n",
    "colnames = ['Maxtime [s]', 'Mintime [s]', 'JacobiMin [s]', 'JacobiMax [s]', 'Residuals', 'MLUPs']\n",
    "data_frame = pd.read_csv(filename, names=colnames, header=None)\n",
    "data_frame = data_frame.round(3)\n",
    "data_frame\n",
    "#data_frame.mean(axis=0)\n",
    "#data = data_frame.values"
   ]
  },
  {
   "cell_type": "code",
   "execution_count": 3,
   "metadata": {},
   "outputs": [
    {
     "data": {
      "image/png": "[encoded data removed]",
      "text/plain": [
       "<Figure size 432x288 with 1 Axes>"
      ]
     },
     "metadata": {
      "needs_background": "light"
     },
     "output_type": "display_data"
    }
   ],
   "source": [
    "# creating table\n",
    "fig, ax = plt.subplots()\n",
    "ax.axis('off')\n",
    "ax.axis('tight')\n",
    "t= ax.table(cellText=data_frame.values, colWidths = [0.2]*len(data_frame.columns),  colLabels=data_frame.columns,  loc='center')\n",
    "t.auto_set_font_size(False) \n",
    "t.set_fontsize(8)\n",
    "fig.tight_layout()\n",
    "plt.show()"
   ]
  },
  {
   "cell_type": "code",
   "execution_count": 4,
   "metadata": {},
   "outputs": [],
   "source": [
    "def get_averages(filename):\n",
    "    colnames = ['Maxtime [s]', 'Mintime [s]', 'JacobiMin [s]', 'JacobiMax [s]', 'Residuals', 'MLUPs']\n",
    "    data_frame = pd.read_csv(filename, names=colnames, header=None)\n",
    "    averages = data_frame.mean(axis=0)\n",
    "    return round(averages, 3)"
   ]
  },
  {
   "cell_type": "code",
   "execution_count": 12,
   "metadata": {},
   "outputs": [
    {
     "name": "stdout",
     "output_type": "stream",
     "text": [
      "Thin:\n",
      " Maxtime [s]           15.334\n",
      "Mintime [s]           15.334\n",
      "JacobiMin [s]         15.067\n",
      "JacobiMax [s]         15.067\n",
      "Residuals        1468975.809\n",
      "MLUPs                112.692\n",
      "dtype: float64\n",
      "\n",
      "\n",
      "GPU:\n",
      " Maxtime [s]           22.314\n",
      "Mintime [s]           22.314\n",
      "JacobiMin [s]         21.811\n",
      "JacobiMax [s]         21.811\n",
      "Residuals        1468975.809\n",
      "MLUPs                 77.439\n",
      "dtype: float64\n"
     ]
    }
   ],
   "source": [
    "sc_thin_avg = get_averages('single_core_thin.csv')\n",
    "print(\"Thin:\\n\",sc_thin_avg)\n",
    "sc_gpu_avg = get_averages('single_core_gpu.csv')\n",
    "print(\"\\n\\nGPU:\\n\",sc_gpu_avg)"
   ]
  },
  {
   "cell_type": "code",
   "execution_count": 20,
   "metadata": {},
   "outputs": [
    {
     "name": "stdout",
     "output_type": "stream",
     "text": [
      "MLUPs/s thin: 7.349158732229033\n",
      "MLUPs/s gpu: 3.470422156493681\n"
     ]
    }
   ],
   "source": [
    "MLUPs_s_thin = sc_thin_avg['MLUPs'] / sc_thin_avg[0]\n",
    "MLUPs_s_gpu = sc_gpu_avg['MLUPs'] / sc_gpu_avg[0]\n",
    "print(\"MLUPs/s thin:\", MLUPs_s_thin)\n",
    "print(\"MLUPs/s gpu:\", MLUPs_s_gpu)"
   ]
  },
  {
   "cell_type": "code",
   "execution_count": null,
   "metadata": {},
   "outputs": [],
   "source": []
  }
 ],
 "metadata": {
  "interpreter": {
   "hash": "c17386159a25e5d47e797c33cdeadec496f05aeaafd8d0e93e21dd4de2513146"
  },
  "kernelspec": {
   "display_name": "Python 3.8.5 64-bit ('base': conda)",
   "language": "python",
   "name": "python3"
  },
  "language_info": {
   "codemirror_mode": {
    "name": "ipython",
    "version": 3
   },
   "file_extension": ".py",
   "mimetype": "text/x-python",
   "name": "python",
   "nbconvert_exporter": "python",
   "pygments_lexer": "ipython3",
   "version": "3.8.5"
  },
  "orig_nbformat": 4
 },
 "nbformat": 4,
 "nbformat_minor": 2
}
