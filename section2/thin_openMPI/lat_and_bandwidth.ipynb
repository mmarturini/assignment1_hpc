{
 "cells": [
  {
   "cell_type": "code",
   "execution_count": 2,
   "metadata": {},
   "outputs": [
    {
     "data": {
      "text/plain": [
       "'c:\\\\Users\\\\matte\\\\OneDrive\\\\Desktop\\\\Università\\\\Trieste\\\\Second_year\\\\HPC21\\\\Cozzini\\\\MPI\\\\Assignment1\\\\PingPong\\\\thin_openMPI'"
      ]
     },
     "execution_count": 2,
     "metadata": {},
     "output_type": "execute_result"
    }
   ],
   "source": [
    "import os\n",
    "import numpy as np\n",
    "import pandas as pd\n",
    "import scipy as sp\n",
    "from scipy.optimize import curve_fit\n",
    "import matplotlib as mpl\n",
    "import matplotlib.pyplot as plt\n",
    "\n",
    "os.getcwd()"
   ]
  },
  {
   "cell_type": "code",
   "execution_count": 3,
   "metadata": {},
   "outputs": [],
   "source": [
    "def lat_and_bandw(filenames):\n",
    "\n",
    "    for filename in filenames:\n",
    "        data_frame = pd.read_csv(filename)\n",
    "        data_frame = data_frame.drop(columns=['Unnamed: 0'])\n",
    "        data = data_frame.values\n",
    "\n",
    "        bandw, time = data[:, 3], data[:, 2]\n",
    "\n",
    "        print(f'Bandwidth: {np.mean(bandw[-4:])}')    \n",
    "        print(f'Latency: {np.mean(time[:4])}\\n\\n')"
   ]
  },
  {
   "cell_type": "markdown",
   "metadata": {},
   "source": [
    "## Cores"
   ]
  },
  {
   "cell_type": "code",
   "execution_count": 20,
   "metadata": {},
   "outputs": [
    {
     "name": "stdout",
     "output_type": "stream",
     "text": [
      "Bandwidth: 6447.9475\n",
      "Latency: 0.2\n",
      "\n",
      "\n"
     ]
    }
   ],
   "source": [
    "filenames = ['thin_openMPI_core_default.csv']\n",
    "lat_and_bandw(filenames)"
   ]
  },
  {
   "cell_type": "markdown",
   "metadata": {},
   "source": [
    "## Sockets"
   ]
  },
  {
   "cell_type": "code",
   "execution_count": 4,
   "metadata": {},
   "outputs": [
    {
     "name": "stdout",
     "output_type": "stream",
     "text": [
      "Bandwidth: 5771.075\n",
      "Latency: 0.4125\n",
      "\n",
      "\n"
     ]
    }
   ],
   "source": [
    "filenames = ['thin_openMPI_socket_default.csv']\n",
    "lat_and_bandw(filenames)"
   ]
  },
  {
   "cell_type": "code",
   "execution_count": null,
   "metadata": {},
   "outputs": [],
   "source": []
  },
  {
   "cell_type": "code",
   "execution_count": null,
   "metadata": {},
   "outputs": [],
   "source": []
  }
 ],
 "metadata": {
  "interpreter": {
   "hash": "c17386159a25e5d47e797c33cdeadec496f05aeaafd8d0e93e21dd4de2513146"
  },
  "kernelspec": {
   "display_name": "Python 3.8.5 64-bit ('base': conda)",
   "language": "python",
   "name": "python3"
  },
  "language_info": {
   "codemirror_mode": {
    "name": "ipython",
    "version": 3
   },
   "file_extension": ".py",
   "mimetype": "text/x-python",
   "name": "python",
   "nbconvert_exporter": "python",
   "pygments_lexer": "ipython3",
   "version": "3.8.5"
  },
  "orig_nbformat": 4
 },
 "nbformat": 4,
 "nbformat_minor": 2
}
